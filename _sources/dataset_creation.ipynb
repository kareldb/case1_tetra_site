{
 "cells": [
  {
   "cell_type": "markdown",
   "metadata": {},
   "source": [
    "# Dataset Creation\n",
    "\n",
    "## Introduction\n",
    "Before training models, the current images of the dataset are converted into a plausible format for the algorithms further used: ResNet, Yolov8, and PaDiM. This involves a train, test, validate split.\n",
    "\n",
    "This notebook also solves two issues with the dataset:\n",
    "1. **High resolution images**: Slicing Aided Hyperinference (SAHI) is used to deliver lower resolution images.\n",
    "2. **Imbalanced dataset**: Methodologies are implemented to ensure each class is well represented in each split.\n",
    "\n",
    "This notebook uses the \"Decospan fineerplaten dataset\" which is annotated in the \"LabelMe JSON Annotation Format\" with LabelMe.\n"
   ]
  },
  {
   "cell_type": "markdown",
   "metadata": {},
   "source": [
    "## Imports"
   ]
  },
  {
   "cell_type": "code",
   "execution_count": 1,
   "metadata": {},
   "outputs": [],
   "source": [
    "import labelme2coco\n",
    "import json\n",
    "import random\n",
    "import os\n",
    "import shutil\n",
    "from sahi.slicing import slice_coco\n",
    "from torch import nn\n",
    "import torch\n",
    "import matplotlib.pyplot as plt\n",
    "import numpy as np \n",
    "from sahi.utils.coco import Coco\n",
    "import cv2\n",
    "from tqdm import tqdm\n",
    "from PIL import Image"
   ]
  },
  {
   "cell_type": "markdown",
   "metadata": {},
   "source": [
    "## Configurable variables"
   ]
  },
  {
   "cell_type": "code",
   "execution_count": 2,
   "metadata": {},
   "outputs": [],
   "source": [
    "# Naming variables\n",
    "classes = ('bg', 'faults')\n",
    "train = \"train\"\n",
    "validate = \"validate\"\n",
    "test = \"test\"\n",
    "\n",
    "# Split settings\n",
    "test_percentage = 14\n",
    "validate_percentage = 14\n",
    "\n",
    "# Input directory\n",
    "labelme_annotation_directory = \"labelme_annotations\"\n",
    "image_input_extension = \".jpg\"\n",
    "\n",
    "# Intermediate output folders\n",
    "coco_annotation_directory = \"full_dataset_coco\"\n",
    "coco_full_split_directory = \"coco_full_split\"\n",
    "coco_window_split_directory = \"coco_window_split\"\n",
    "sahi_output = \"sahi_output\"\n",
    "\n",
    "# Output folders & variables\n",
    "binary_window_directory = \"binary_window\"\n",
    "fault_only = \"fault_only\"\n",
    "sampled_bg_fault = \"sampled_bg_fault\"\n",
    "full_bg_fault = \"full_bg_fault\"\n",
    "yolo_dataset = \"yolo_dataset\"\n",
    "\n",
    "#Sahi settings\n",
    "window_size = 480\n",
    "overlap_percentage = 20"
   ]
  },
  {
   "cell_type": "markdown",
   "metadata": {},
   "source": [
    "## Conversion to COCO format\n",
    "LabelMe uses the \"LabelMe JSON Annotation Format\", this is converted to the more widely used COCO format."
   ]
  },
  {
   "cell_type": "code",
   "execution_count": 3,
   "metadata": {},
   "outputs": [
    {
     "name": "stdout",
     "output_type": "stream",
     "text": [
      "There are 367 listed files in folder labelme_annotations.\n"
     ]
    },
    {
     "name": "stderr",
     "output_type": "stream",
     "text": [
      "Converting labelme annotations to COCO format: 100%|██████████| 367/367 [00:00<00:00, 1994.59it/s]\n",
      "05/23/2024 16:49:16 - INFO - labelme2coco -   Converted annotations in COCO format is exported to full_dataset_coco\\dataset.json\n"
     ]
    },
    {
     "name": "stdout",
     "output_type": "stream",
     "text": [
      "indexing coco dataset annotations...\n"
     ]
    },
    {
     "name": "stderr",
     "output_type": "stream",
     "text": [
      "Loading coco annotations: 100%|██████████| 367/367 [00:00<00:00, 4170.50it/s]"
     ]
    },
    {
     "name": "stdout",
     "output_type": "stream",
     "text": [
      "{'num_images': 367, 'num_annotations': 935, 'num_categories': 11, 'num_negative_images': 0, 'num_images_per_category': {'open fout': 124, 'open voeg': 57, 'deuk': 73, 'zaag': 102, 'barst': 16, 'open knop': 18, 'snijfout': 7, 'veneer piece': 28, 'vlek': 35, 'ongekend': 2, 'kras': 18}, 'num_annotations_per_category': {'open fout': 217, 'open voeg': 119, 'deuk': 85, 'zaag': 154, 'barst': 22, 'open knop': 137, 'snijfout': 24, 'veneer piece': 32, 'vlek': 94, 'ongekend': 3, 'kras': 48}, 'min_num_annotations_in_image': 1, 'max_num_annotations_in_image': 26, 'avg_num_annotations_in_image': 2.5476839237057223, 'min_annotation_area': 129, 'max_annotation_area': 2943700, 'avg_annotation_area': 110788.59786096256, 'min_annotation_area_per_category': {'open fout': 407, 'open voeg': 1882, 'deuk': 1463, 'zaag': 1785, 'barst': 6894, 'open knop': 129, 'snijfout': 5029, 'veneer piece': 902, 'vlek': 1340, 'ongekend': 11532, 'kras': 1159}, 'max_annotation_area_per_category': {'open fout': 2943700, 'open voeg': 438951, 'deuk': 391395, 'zaag': 892801, 'barst': 305913, 'open knop': 20225, 'snijfout': 51764, 'veneer piece': 325911, 'vlek': 685825, 'ongekend': 115662, 'kras': 339616}}\n"
     ]
    },
    {
     "name": "stderr",
     "output_type": "stream",
     "text": [
      "\n"
     ]
    }
   ],
   "source": [
    "# Convert labelme images to COCO format\n",
    "labelme2coco.convert(labelme_annotation_directory, coco_annotation_directory)\n",
    "\n",
    "# Stats\n",
    "coco = Coco.from_coco_dict_or_path(coco_annotation_directory+\"/dataset.json\")\n",
    "print(coco.stats)"
   ]
  },
  {
   "cell_type": "markdown",
   "metadata": {},
   "source": [
    "## Train-Test-Validation Split\n",
    "In this section, we split the dataset into training, validation, and test sets. The partitioning is done based on the full-scale images, ensuring that SAHI windows originating from the same source image remain together within each of the three categories. This approach maintains the integrity of the source images across the splits.\n",
    "\n",
    "Furthermore, checks are implemented to ensure that each fault category is adequately represented in each split. This balanced representation is crucial for training robust and generalizable models."
   ]
  },
  {
   "cell_type": "code",
   "execution_count": 4,
   "metadata": {},
   "outputs": [],
   "source": [
    "# Split images into train - test - validate (in memory dictionary)\n",
    "f = open(coco_annotation_directory+'/dataset.json') # get json cocofile\n",
    "coco_data = json.load(f)\n",
    "\n",
    "# Calculate the number of images for each split\n",
    "total_images = len(coco_data['images'])\n",
    "num_validate = int(total_images * validate_percentage / 100)\n",
    "num_test = int(total_images * test_percentage / 100)\n",
    "num_train = total_images - num_validate - num_test\n",
    "\n",
    "# Shuffle the images randomly\n",
    "random.seed(20) # Change this (trial/error) to get optimal results\n",
    "random.shuffle(coco_data['images'])\n",
    "\n",
    "# Dictionary that holds split information\n",
    "split_dict = {}\n",
    "split_dict_id = {}\n",
    "\n",
    "for i, image_info in enumerate(coco_data['images']):\n",
    "    if i < num_validate:\n",
    "        split_dict[image_info['file_name']] = validate\n",
    "        split_dict_id[image_info['id']] = validate\n",
    "    elif i < num_validate + num_test:\n",
    "        split_dict[image_info['file_name']] = test\n",
    "        split_dict_id[image_info['id']] = test\n",
    "    else:\n",
    "        split_dict[image_info['file_name']] = train\n",
    "        split_dict_id[image_info['id']] = train"
   ]
  },
  {
   "cell_type": "markdown",
   "metadata": {},
   "source": [
    "To check if the specific faults types are equally distributed between train-test-validation, 2 plots are created"
   ]
  },
  {
   "cell_type": "code",
   "execution_count": 5,
   "metadata": {},
   "outputs": [
    {
     "name": "stdout",
     "output_type": "stream",
     "text": [
      "{0: 'open fout', 1: 'open voeg', 2: 'deuk', 3: 'zaag', 4: 'barst', 5: 'open knop', 6: 'snijfout', 7: 'veneer piece', 8: 'vlek', 9: 'ongekend', 10: 'kras'}\n",
      "{'open fout': {'train': 177, 'test': 18, 'validate': 22}, 'open voeg': {'train': 72, 'test': 10, 'validate': 37}, 'deuk': {'train': 58, 'test': 15, 'validate': 12}, 'zaag': {'train': 124, 'test': 13, 'validate': 17}, 'barst': {'train': 18, 'test': 3, 'validate': 1}, 'open knop': {'train': 90, 'test': 34, 'validate': 13}, 'snijfout': {'train': 13, 'test': 8, 'validate': 3}, 'veneer piece': {'train': 21, 'test': 8, 'validate': 3}, 'vlek': {'train': 76, 'test': 7, 'validate': 11}, 'ongekend': {'train': 1, 'test': 0, 'validate': 2}, 'kras': {'train': 32, 'test': 4, 'validate': 12}}\n"
     ]
    },
    {
     "data": {
      "image/png": "[encoded data removed]",
      "text/plain": [
       "<Figure size 640x480 with 1 Axes>"
      ]
     },
     "metadata": {},
     "output_type": "display_data"
    },
    {
     "data": {
      "image/png": "[encoded data removed]",
      "text/plain": [
       "<Figure size 640x480 with 1 Axes>"
      ]
     },
     "metadata": {},
     "output_type": "display_data"
    }
   ],
   "source": [
    "# Faults count dictionary\n",
    "fault_count_dict = {}\n",
    "\n",
    "# Get categories\n",
    "cat_dict = {}\n",
    "for i, cat_info in enumerate(coco_data['categories']):\n",
    "    cat_dict[cat_info['id']] = cat_info['name']\n",
    "    fault_count_dict[cat_info['name']] = {'train': 0, 'test': 0, 'validate': 0}\n",
    "\n",
    "print(cat_dict)\n",
    "\n",
    "# Get faults\n",
    "for i, ann_info in enumerate(coco_data['annotations']):\n",
    "    name = cat_dict[ann_info[\"category_id\"]]\n",
    "    split = split_dict_id[ann_info['image_id']]\n",
    "    fault_count_dict[name][split] += 1 \n",
    "\n",
    "print(fault_count_dict)    \n",
    "\n",
    "# Place data in right structure for plot\n",
    "faults = list(fault_count_dict.keys())\n",
    "num_train = [fault_count_dict[fault]['train'] for fault in faults]\n",
    "num_test = [fault_count_dict[fault]['test'] for fault in faults]\n",
    "num_validate = [fault_count_dict[fault]['validate'] for fault in faults]\n",
    "\n",
    "# Set up the plot\n",
    "X_axis = np.arange(len(faults))\n",
    "\n",
    "plt.bar(X_axis - 0.2, num_train, 0.2, label='Train')\n",
    "plt.bar(X_axis, num_test, 0.2, label='Test')\n",
    "plt.bar(X_axis + 0.2, num_validate, 0.2, label='Validate')\n",
    "\n",
    "plt.xticks(X_axis, faults, rotation=45, fontsize=8)\n",
    "plt.xlabel(\"\")\n",
    "plt.ylabel(\"Faults (count)\")\n",
    "plt.title(\"Distribution of Individual Faults\")\n",
    "plt.legend()\n",
    "plt.show()\n",
    "\n",
    "# Calculate totals and percentages\n",
    "faults = list(fault_count_dict.keys())\n",
    "totals = [sum(fault_count_dict[fault].values()) for fault in faults]\n",
    "num_train_pct = [fault_count_dict[fault]['train'] / total * 100 for fault, total in zip(faults, totals)]\n",
    "num_test_pct = [fault_count_dict[fault]['test'] / total * 100 for fault, total in zip(faults, totals)]\n",
    "num_validate_pct = [fault_count_dict[fault]['validate'] / total * 100 for fault, total in zip(faults, totals)]\n",
    "\n",
    "# Set up the plot\n",
    "X_axis = np.arange(len(faults))\n",
    "\n",
    "# Create stacked bars\n",
    "plt.bar(X_axis, num_train_pct, 0.4, label='Train')\n",
    "plt.bar(X_axis, num_test_pct, 0.4, bottom=num_train_pct, label='Test')\n",
    "plt.bar(X_axis, num_validate_pct, 0.4, bottom=np.array(num_train_pct) + np.array(num_test_pct), label='Validate')\n",
    "\n",
    "plt.xticks(X_axis, faults, rotation=45, fontsize=8)\n",
    "plt.xlabel(\"Fault Categories\")\n",
    "plt.ylabel(\"Percentage (%)\")\n",
    "plt.title(\"Percentage Split of Train, Test, and Validate Sets by Fault Category\")\n",
    "plt.legend()\n",
    "plt.show()"
   ]
  },
  {
   "cell_type": "markdown",
   "metadata": {},
   "source": [
    "## **SAHI**\n",
    "The high resolution images are split into multiple windows using the sliding window method. SAHI operates by dividing each high-resolution image into multiple smaller windows. This process, known as the sliding window technique, involves moving a fixed-size window across the image in steps, capturing different parts of the image in each move. This technique allows for detailed analysis of the entire image without compromising the resolution quality by resizing. It ensures that small details are captured and analyzed, which is crucial for accurate image detection and classification tasks.\n"
   ]
  },
  {
   "cell_type": "code",
   "execution_count": 7,
   "metadata": {},
   "outputs": [
    {
     "name": "stdout",
     "output_type": "stream",
     "text": [
      "indexing coco dataset annotations...\n"
     ]
    },
    {
     "name": "stderr",
     "output_type": "stream",
     "text": [
      "Loading coco annotations: 100%|██████████| 264/264 [00:00<00:00, 4190.84it/s]\n",
      "100%|██████████| 264/264 [10:46<00:00,  2.45s/it]\n"
     ]
    },
    {
     "name": "stdout",
     "output_type": "stream",
     "text": [
      "indexing coco dataset annotations...\n"
     ]
    },
    {
     "name": "stderr",
     "output_type": "stream",
     "text": [
      "Loading coco annotations: 100%|██████████| 51/51 [00:00<00:00, 2318.02it/s]\n",
      "100%|██████████| 51/51 [02:05<00:00,  2.47s/it]\n"
     ]
    },
    {
     "name": "stdout",
     "output_type": "stream",
     "text": [
      "indexing coco dataset annotations...\n"
     ]
    },
    {
     "name": "stderr",
     "output_type": "stream",
     "text": [
      "Loading coco annotations: 100%|██████████| 51/51 [00:00<00:00, 335.53it/s]\n",
      "100%|██████████| 51/51 [02:06<00:00,  2.48s/it]\n"
     ]
    }
   ],
   "source": [
    "for i in [train, validate, test]:\n",
    "    os.makedirs(sahi_output+\"/\"+i, exist_ok=True)\n",
    "    coco_dict, coco_path = slice_coco(\n",
    "    coco_annotation_file_path=coco_full_split_directory+\"/\"+i+\".json\",\n",
    "    image_dir=labelme_annotation_directory,\n",
    "    ignore_negative_samples=False,\n",
    "    output_coco_annotation_file_name=\"sahi\",\n",
    "    output_dir=sahi_output+\"/\"+i,\n",
    "    slice_height=window_size,\n",
    "    slice_width=window_size,\n",
    "    overlap_height_ratio=overlap_percentage / 100,\n",
    "    overlap_width_ratio=overlap_percentage / 100,\n",
    "    min_area_ratio=0.04,\n",
    "    verbose=False\n",
    "    )"
   ]
  },
  {
   "cell_type": "markdown",
   "metadata": {},
   "source": [
    "## **Final dataset generation**\n",
    "\n",
    "To support different machine learning models, the final dataset is being prepared in multiple file formats. This ensures compatibility and optimization for diverse algorithmic requirements. The formats include:\n",
    "\n",
    "- **COCO Format**: Standard for object detection models.\n",
    "- **Binary Window Format**: Organizes images into binary categories within folders, typically used for simplified classification tasks.\n",
    "- **YOLO Format**: Popular for real-time object detection models.\n",
    "\n",
    "### Dataset Versions\n",
    "Each format is subdivided into three specific versions to meet varied training demands, enhancing the dataset's versatility:\n",
    "\n",
    "1. **Fault Only**\n",
    "2. **Sampled Background + Fault**\n",
    "3. **All Background + Fault**\n",
    "\n",
    "These structured formats and versions are meticulously designed to refine the training process, catering to specific challenges and boosting the effectiveness of the trained models.\n",
    "\n",
    "### Dataset testing\n",
    "Since type 3 datasets are as close as possible to real world. All models (even when trained on different type datasets), are tested on type 3 test data.\n"
   ]
  },
  {
   "cell_type": "code",
   "execution_count": null,
   "metadata": {},
   "outputs": [],
   "source": [
    "for y in [train, validate, test]:\n",
    "    f = open(sahi_output+\"/\"+y+\"/sahi_coco.json\")\n",
    "    data = json.load(f)\n",
    "\n",
    "    # faulty image dict\n",
    "    fault_image_dict = {}\n",
    "    for i in data[\"annotations\"]:\n",
    "        if bool(i[\"segmentation\"]):\n",
    "            fault_image_dict[i['image_id']] = True\n",
    "\n",
    "    print(\"number of faulty windows: \"+str(len(fault_image_dict.keys())))\n",
    "    faulty_windows = len(fault_image_dict.keys())\n",
    "\n",
    "    coco_fault_only = {}\n",
    "    coco_full_bg_fault = {} \n",
    "    coco_bg_fault = {} \n",
    "\n",
    "    coco_fault_only['categories'] = data['categories']\n",
    "    coco_fault_only['images'] = []\n",
    "    coco_fault_only['annotations'] = data['annotations']\n",
    "\n",
    "    coco_full_bg_fault['categories'] = data['categories']\n",
    "    coco_full_bg_fault['images'] = data['images']\n",
    "    coco_full_bg_fault['annotations'] = data['annotations']\n",
    "\n",
    "    coco_bg_fault['categories'] = data['categories']\n",
    "    coco_bg_fault['images'] = []\n",
    "    coco_bg_fault['annotations'] = data['annotations']   \n",
    "\n",
    "\n",
    "    #folder structure\n",
    "    for z in [fault_only, full_bg_fault, sampled_bg_fault]:\n",
    "        os.makedirs(binary_window_directory+\"/\"+z+\"/\"+y+\"/\"+classes[0], exist_ok=True)\n",
    "        os.makedirs(binary_window_directory+\"/\"+z+\"/\"+y+\"/\"+classes[1], exist_ok=True)\n",
    "\n",
    "    #shuffle so random bg's are selected\n",
    "    image_list = data['images']\n",
    "    random.shuffle(image_list)\n",
    "\n",
    "    faults = []\n",
    "    sampled_bg = []\n",
    "\n",
    "    count = 0\n",
    "    \n",
    "    # Copy images in the right category and train/test/validate split folder\n",
    "    for i in tqdm(image_list, desc=y):\n",
    "        imgPath = sahi_output+\"/\"+y+\"/\"+i['file_name']\n",
    "        fileName = i['file_name']\n",
    "        if i['id'] in fault_image_dict:\n",
    "            faults.append(i)\n",
    "            for x in [fault_only, full_bg_fault, sampled_bg_fault]:\n",
    "                shutil.copy(imgPath, binary_window_directory+\"/\"+x+\"/\"+y+\"/\"+classes[1]+\"/\"+fileName)\n",
    "        else:\n",
    "            if count < faulty_windows:\n",
    "                sampled_bg.append(i)\n",
    "                count += 1\n",
    "                for x in [full_bg_fault, sampled_bg_fault]:\n",
    "                    shutil.copy(imgPath, binary_window_directory+\"/\"+x+\"/\"+y+\"/\"+classes[0]+\"/\"+fileName)\n",
    "            else:    \n",
    "                for x in [full_bg_fault]:\n",
    "                    shutil.copy(imgPath, binary_window_directory+\"/\"+x+\"/\"+y+\"/\"+classes[0]+\"/\"+fileName)\n",
    "\n",
    "    print(f\"{y} faulty {len(faults)} sampled_bg {len(sampled_bg)} total {len(data['images'])}\")\n",
    "\n",
    "    coco_fault_only['images'] = faults\n",
    "    coco_bg_fault['images'] = faults + sampled_bg\n",
    "\n",
    "    \n",
    "    print(f\"fault only {len(coco_fault_only['images'])}\")\n",
    "    print(f\"sampled bg {len(coco_bg_fault['images'])}\")\n",
    "    print(f\"full bg {len(coco_full_bg_fault['images'])}\")\n",
    "\n",
    "    #save to disk\n",
    "    os.makedirs(coco_window_split_directory+\"/\"+y, exist_ok=True)\n",
    "\n",
    "    with open(coco_window_split_directory+\"/\"+y+\"/\"+fault_only+\".json\", \"w\") as outfile:\n",
    "        json.dump(coco_fault_only, outfile)\n",
    "\n",
    "    with open(coco_window_split_directory+\"/\"+y+\"/\"+sampled_bg_fault+\".json\", \"w\") as outfile2:\n",
    "        json.dump(coco_bg_fault, outfile2)\n",
    "\n",
    "    with open(coco_window_split_directory+\"/\"+y+\"/\"+full_bg_fault+\".json\", \"w\") as outfile3:\n",
    "        json.dump(coco_full_bg_fault, outfile3)\n"
   ]
  },
  {
   "cell_type": "markdown",
   "metadata": {},
   "source": [
    "Conversion to yolo format"
   ]
  },
  {
   "cell_type": "code",
   "execution_count": null,
   "metadata": {},
   "outputs": [],
   "source": [
    "# Convert current coco annotations to yolo format\n",
    "for y in [test, train, validate]:\n",
    "  for x in [fault_only]:\n",
    "    f = open(coco_window_split_directory+\"/\"+y+\"/\"+x+\".json\")\n",
    "    data = json.load(f)\n",
    "\n",
    "    # Init Coco object\n",
    "    coco = Coco.from_coco_dict_or_path(coco_window_split_directory+\"/\"+y+\"/\"+x+\".json\", image_dir=sahi_output+\"/\"+y+\"/\")\n",
    "\n",
    "    # Export converted YoloV5 formatted dataset into given output_dir\n",
    "    # WARNING: this program uses symlinks, which requires administrator rights (windows only): https://stackoverflow.com/questions/32877260/privlege-error-trying-to-create-symlink-using-python-on-windows-10\n",
    "    coco.export_as_yolov5(\n",
    "    disable_symlink=True,\n",
    "    output_dir=yolo_dataset+\"/\"+x+\"/\"+y,\n",
    "    train_split_rate=1\n",
    "    )"
   ]
  }
 ],
 "metadata": {
  "kernelspec": {
   "display_name": "Python 3",
   "language": "python",
   "name": "python3"
  },
  "language_info": {
   "codemirror_mode": {
    "name": "ipython",
    "version": 3
   },
   "file_extension": ".py",
   "mimetype": "text/x-python",
   "name": "python",
   "nbconvert_exporter": "python",
   "pygments_lexer": "ipython3",
   "version": "3.12.2"
  }
 },
 "nbformat": 4,
 "nbformat_minor": 2
}
