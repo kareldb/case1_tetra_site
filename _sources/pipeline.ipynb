{
 "cells": [
  {
   "cell_type": "markdown",
   "metadata": {},
   "source": [
    "# Image Processing and Classification Pipeline\n",
    "\n",
    "## Introduction\n",
    "This notebook presents a comprehensive pipeline for image processing, starting with an image from a line scan camera. It includes the following steps: SAHI for image slicing, preprocessing, binary classification with a pretrained model, and multi-class classification and segmentation using YOLO. The entire pipeline has been tested on an NVIDIA Jetson, ensuring efficient performance for real-time applications.\n",
    "\n",
    "Performance optimizations are implemented (ex. doing all steps in RAM-memory).\n",
    "Also, the inference times are calculated."
   ]
  },
  {
   "cell_type": "markdown",
   "metadata": {},
   "source": [
    "![title](ccc.png)"
   ]
  },
  {
   "cell_type": "markdown",
   "metadata": {},
   "source": [
    "## Imports"
   ]
  },
  {
   "cell_type": "code",
   "execution_count": 1,
   "metadata": {},
   "outputs": [],
   "source": [
    "from sahi.slicing import slice_image\n",
    "import torch\n",
    "from torch.utils.data import DataLoader\n",
    "from torchvision import datasets, transforms, models\n",
    "import torch.nn as nn\n",
    "from torchvision.datasets import ImageFolder\n",
    "from PIL import Image\n",
    "from torch.utils.data import Dataset, DataLoader\n",
    "from ultralytics import YOLO\n",
    "import time\n",
    "import numpy as np\n",
    "from PIL import Image"
   ]
  },
  {
   "cell_type": "markdown",
   "metadata": {},
   "source": [
    "## Line scan camera\n",
    "\n",
    "Is simulated by reading an image from disk."
   ]
  },
  {
   "cell_type": "code",
   "execution_count": 2,
   "metadata": {},
   "outputs": [],
   "source": [
    "image = Image.open(\"test_image.jpg\").convert('RGB')"
   ]
  },
  {
   "cell_type": "markdown",
   "metadata": {},
   "source": [
    "## SAHI"
   ]
  },
  {
   "cell_type": "code",
   "execution_count": 3,
   "metadata": {},
   "outputs": [
    {
     "name": "stdout",
     "output_type": "stream",
     "text": [
      "726\n"
     ]
    }
   ],
   "source": [
    "\n",
    "slice_image_result = slice_image(\n",
    "    image=image,\n",
    "    output_file_name=\"output\",\n",
    "    output_dir=None,\n",
    "    slice_height=448,\n",
    "    slice_width=448,\n",
    "    overlap_height_ratio=0.2,\n",
    "    overlap_width_ratio=0.2,\n",
    ")\n",
    "\n",
    "sahi_images = slice_image_result.sliced_image_list\n",
    "\n",
    "print(len(slice_image_result.sliced_image_list))"
   ]
  },
  {
   "cell_type": "markdown",
   "metadata": {},
   "source": [
    "## Preprocessing"
   ]
  },
  {
   "cell_type": "code",
   "execution_count": 4,
   "metadata": {},
   "outputs": [],
   "source": [
    "# Convert the sliced images to numpy arrays\n",
    "sahi_images_np = [np.array(slice.image) for slice in sahi_images]\n",
    "\n",
    "# Convert the numpy arrays to PIL images for transformation\n",
    "sahi_images_pil = [Image.fromarray(img) for img in sahi_images_np]\n",
    "\n",
    "# Image normalization and transformation\n",
    "normalize = transforms.Normalize(mean=[0.485, 0.456, 0.406], std=[0.229, 0.224, 0.225])\n",
    "size = 224\n",
    "transform = transforms.Compose([\n",
    "    transforms.Resize((size, size)),\n",
    "    transforms.ToTensor(),\n",
    "    normalize,\n",
    "])\n",
    "\n",
    "class MemoryDataset(Dataset):\n",
    "    def __init__(self, images, transform=None):\n",
    "        self.images = images\n",
    "        self.transform = transform\n",
    "\n",
    "    def __len__(self):\n",
    "        return len(self.images)\n",
    "\n",
    "    def __getitem__(self, idx):\n",
    "        image = self.images[idx]\n",
    "        if self.transform:\n",
    "            image = self.transform(image)\n",
    "        return image\n",
    "\n",
    "# Setting up the dataset and DataLoader\n",
    "dataset = MemoryDataset(sahi_images_pil, transform=transform)\n",
    "data_loader = DataLoader(dataset, batch_size=32, shuffle=False)\n"
   ]
  },
  {
   "cell_type": "markdown",
   "metadata": {},
   "source": [
    "## Binary classification"
   ]
  },
  {
   "cell_type": "code",
   "execution_count": null,
   "metadata": {},
   "outputs": [],
   "source": [
    "# Model setup\n",
    "classes = ('bg', 'faults')\n",
    "resnet_model = models.resnet50(pretrained=True)\n",
    "n_inputs = resnet_model.fc.in_features\n",
    "resnet_model.fc = nn.Linear(n_inputs, len(classes))\n",
    "device = torch.device(\"cuda:0\" if torch.cuda.is_available() else \"cpu\")\n",
    "resnet_model = resnet_model.to(device)\n",
    "resnet_model.eval()\n",
    "print(device)"
   ]
  },
  {
   "cell_type": "code",
   "execution_count": null,
   "metadata": {},
   "outputs": [],
   "source": [
    "num_runs = 10\n",
    "total_device_time = 0\n",
    "total_model_time = 0\n",
    "total_images = 0\n",
    "\n",
    "with torch.no_grad():\n",
    "    for _ in range(num_runs):\n",
    "        for images in data_loader:\n",
    "            start_device_time = time.time()\n",
    "            images = images.to(device)\n",
    "            end_device_time = time.time()\n",
    "\n",
    "            start_model_time = time.time()\n",
    "            outputs = resnet_model(images)\n",
    "            end_model_time = time.time()\n",
    "\n",
    "            _, predicted = torch.max(outputs, 1)\n",
    "            predicted_class = [classes[p] for p in predicted]\n",
    "\n",
    "            # Accumulate the times and the number of processed images\n",
    "            total_device_time += (end_device_time - start_device_time)\n",
    "            total_model_time += (end_model_time - start_model_time)\n",
    "            total_images += images.size(0)  # Number of images in this batch\n",
    "\n",
    "# Calculate averages and convert to milliseconds\n",
    "avg_device_time = (total_device_time / total_images) * 1000\n",
    "avg_model_time = (total_model_time / total_images) * 1000\n",
    "\n",
    "print(f\"Average time to transfer images to the device: {avg_device_time:.3f} milliseconds per image\")\n",
    "print(f\"Average time for model prediction: {avg_model_time:.3f} milliseconds per image\")\n"
   ]
  },
  {
   "cell_type": "markdown",
   "metadata": {},
   "source": [
    "## Multi-class classification\n",
    "With yolov8"
   ]
  },
  {
   "cell_type": "code",
   "execution_count": 5,
   "metadata": {},
   "outputs": [
    {
     "name": "stdout",
     "output_type": "stream",
     "text": [
      "cuda:0\n"
     ]
    }
   ],
   "source": [
    "model_path = \"yolo.pt\"\n",
    "model = YOLO(model_path)\n",
    "device = torch.device(\"cuda:0\")\n",
    "print(device)"
   ]
  },
  {
   "cell_type": "code",
   "execution_count": 8,
   "metadata": {},
   "outputs": [
    {
     "name": "stdout",
     "output_type": "stream",
     "text": [
      "\n",
      "0: 448x448 (no detections), 1: 448x448 (no detections), 2: 448x448 (no detections), 3: 448x448 (no detections), 4: 448x448 (no detections), 5: 448x448 (no detections), 6: 448x448 1 barst, 7: 448x448 (no detections), 8: 448x448 (no detections), 9: 448x448 (no detections), 10: 448x448 (no detections), 11: 448x448 (no detections), 12: 448x448 (no detections), 13: 448x448 (no detections), 14: 448x448 (no detections), 15: 448x448 (no detections), 72.0ms\n",
      "Speed: 1.0ms preprocess, 4.5ms inference, 0.4ms postprocess per image at shape (1, 3, 448, 448)\n",
      "\n",
      "0: 448x448 (no detections), 1: 448x448 (no detections), 2: 448x448 (no detections), 3: 448x448 (no detections), 4: 448x448 (no detections), 5: 448x448 (no detections), 6: 448x448 (no detections), 7: 448x448 (no detections), 8: 448x448 (no detections), 9: 448x448 (no detections), 10: 448x448 (no detections), 11: 448x448 1 zaag, 12: 448x448 (no detections), 13: 448x448 (no detections), 14: 448x448 (no detections), 15: 448x448 (no detections), 82.0ms\n",
      "Speed: 1.1ms preprocess, 5.1ms inference, 0.4ms postprocess per image at shape (1, 3, 448, 448)\n",
      "\n",
      "0: 448x448 (no detections), 1: 448x448 (no detections), 2: 448x448 (no detections), 3: 448x448 (no detections), 4: 448x448 (no detections), 5: 448x448 (no detections), 6: 448x448 (no detections), 7: 448x448 (no detections), 8: 448x448 (no detections), 9: 448x448 (no detections), 10: 448x448 (no detections), 11: 448x448 (no detections), 12: 448x448 (no detections), 13: 448x448 (no detections), 14: 448x448 (no detections), 15: 448x448 (no detections), 81.0ms\n",
      "Speed: 1.2ms preprocess, 5.1ms inference, 0.3ms postprocess per image at shape (1, 3, 448, 448)\n",
      "\n",
      "0: 448x448 (no detections), 1: 448x448 1 kras, 2: 448x448 (no detections), 3: 448x448 (no detections), 4: 448x448 (no detections), 5: 448x448 (no detections), 6: 448x448 (no detections), 7: 448x448 (no detections), 8: 448x448 (no detections), 9: 448x448 (no detections), 10: 448x448 (no detections), 11: 448x448 (no detections), 12: 448x448 (no detections), 13: 448x448 (no detections), 14: 448x448 (no detections), 15: 448x448 (no detections), 81.0ms\n",
      "Speed: 1.2ms preprocess, 5.1ms inference, 0.5ms postprocess per image at shape (1, 3, 448, 448)\n",
      "\n",
      "0: 448x448 (no detections), 1: 448x448 (no detections), 2: 448x448 (no detections), 3: 448x448 (no detections), 4: 448x448 (no detections), 5: 448x448 (no detections), 6: 448x448 (no detections), 7: 448x448 (no detections), 8: 448x448 (no detections), 9: 448x448 (no detections), 10: 448x448 (no detections), 11: 448x448 (no detections), 12: 448x448 (no detections), 13: 448x448 (no detections), 14: 448x448 (no detections), 15: 448x448 (no detections), 82.0ms\n",
      "Speed: 1.1ms preprocess, 5.1ms inference, 0.4ms postprocess per image at shape (1, 3, 448, 448)\n",
      "\n",
      "0: 448x448 (no detections), 1: 448x448 (no detections), 2: 448x448 (no detections), 3: 448x448 (no detections), 4: 448x448 (no detections), 5: 448x448 (no detections), 6: 448x448 (no detections), 7: 448x448 (no detections), 8: 448x448 (no detections), 9: 448x448 (no detections), 10: 448x448 (no detections), 11: 448x448 (no detections), 12: 448x448 (no detections), 13: 448x448 (no detections), 14: 448x448 (no detections), 15: 448x448 (no detections), 82.0ms\n",
      "Speed: 1.1ms preprocess, 5.1ms inference, 0.3ms postprocess per image at shape (1, 3, 448, 448)\n",
      "\n",
      "0: 448x448 (no detections), 1: 448x448 (no detections), 2: 448x448 (no detections), 3: 448x448 (no detections), 4: 448x448 (no detections), 5: 448x448 (no detections), 6: 448x448 (no detections), 7: 448x448 (no detections), 8: 448x448 (no detections), 9: 448x448 (no detections), 10: 448x448 (no detections), 11: 448x448 (no detections), 12: 448x448 (no detections), 13: 448x448 (no detections), 14: 448x448 (no detections), 15: 448x448 (no detections), 81.0ms\n",
      "Speed: 1.1ms preprocess, 5.1ms inference, 0.5ms postprocess per image at shape (1, 3, 448, 448)\n",
      "\n",
      "0: 448x448 (no detections), 1: 448x448 (no detections), 2: 448x448 (no detections), 3: 448x448 (no detections), 4: 448x448 (no detections), 5: 448x448 (no detections), 6: 448x448 (no detections), 7: 448x448 (no detections), 8: 448x448 (no detections), 9: 448x448 (no detections), 10: 448x448 (no detections), 11: 448x448 (no detections), 12: 448x448 (no detections), 13: 448x448 (no detections), 14: 448x448 (no detections), 15: 448x448 (no detections), 82.0ms\n",
      "Speed: 1.1ms preprocess, 5.1ms inference, 0.4ms postprocess per image at shape (1, 3, 448, 448)\n",
      "\n",
      "0: 448x448 (no detections), 1: 448x448 (no detections), 2: 448x448 (no detections), 3: 448x448 (no detections), 4: 448x448 (no detections), 5: 448x448 (no detections), 6: 448x448 (no detections), 7: 448x448 (no detections), 8: 448x448 (no detections), 9: 448x448 (no detections), 10: 448x448 (no detections), 11: 448x448 (no detections), 12: 448x448 (no detections), 13: 448x448 (no detections), 14: 448x448 (no detections), 15: 448x448 (no detections), 82.0ms\n",
      "Speed: 1.1ms preprocess, 5.1ms inference, 0.3ms postprocess per image at shape (1, 3, 448, 448)\n",
      "\n",
      "0: 448x448 (no detections), 1: 448x448 (no detections), 2: 448x448 (no detections), 3: 448x448 (no detections), 4: 448x448 (no detections), 5: 448x448 (no detections), 6: 448x448 (no detections), 7: 448x448 (no detections), 8: 448x448 (no detections), 9: 448x448 (no detections), 10: 448x448 (no detections), 11: 448x448 (no detections), 12: 448x448 (no detections), 13: 448x448 (no detections), 14: 448x448 (no detections), 15: 448x448 (no detections), 78.0ms\n",
      "Speed: 1.1ms preprocess, 4.9ms inference, 0.4ms postprocess per image at shape (1, 3, 448, 448)\n",
      "\n",
      "0: 448x448 (no detections), 1: 448x448 (no detections), 2: 448x448 (no detections), 3: 448x448 (no detections), 4: 448x448 (no detections), 5: 448x448 (no detections), 6: 448x448 (no detections), 7: 448x448 (no detections), 8: 448x448 (no detections), 9: 448x448 (no detections), 10: 448x448 (no detections), 11: 448x448 (no detections), 12: 448x448 (no detections), 13: 448x448 (no detections), 14: 448x448 (no detections), 15: 448x448 (no detections), 82.0ms\n",
      "Speed: 1.1ms preprocess, 5.1ms inference, 0.5ms postprocess per image at shape (1, 3, 448, 448)\n",
      "\n",
      "0: 448x448 (no detections), 1: 448x448 (no detections), 2: 448x448 (no detections), 3: 448x448 (no detections), 4: 448x448 (no detections), 5: 448x448 (no detections), 6: 448x448 (no detections), 7: 448x448 (no detections), 8: 448x448 (no detections), 9: 448x448 1 zaag, 10: 448x448 (no detections), 11: 448x448 (no detections), 12: 448x448 (no detections), 13: 448x448 (no detections), 14: 448x448 (no detections), 15: 448x448 (no detections), 82.0ms\n",
      "Speed: 1.1ms preprocess, 5.1ms inference, 0.4ms postprocess per image at shape (1, 3, 448, 448)\n",
      "\n",
      "0: 448x448 (no detections), 1: 448x448 (no detections), 2: 448x448 (no detections), 3: 448x448 (no detections), 4: 448x448 (no detections), 5: 448x448 (no detections), 6: 448x448 (no detections), 7: 448x448 (no detections), 8: 448x448 (no detections), 9: 448x448 (no detections), 10: 448x448 (no detections), 11: 448x448 (no detections), 12: 448x448 (no detections), 13: 448x448 (no detections), 14: 448x448 (no detections), 15: 448x448 (no detections), 82.0ms\n",
      "Speed: 1.1ms preprocess, 5.1ms inference, 0.3ms postprocess per image at shape (1, 3, 448, 448)\n",
      "\n",
      "0: 448x448 (no detections), 1: 448x448 (no detections), 2: 448x448 (no detections), 3: 448x448 (no detections), 4: 448x448 (no detections), 5: 448x448 (no detections), 6: 448x448 (no detections), 7: 448x448 (no detections), 8: 448x448 (no detections), 9: 448x448 (no detections), 10: 448x448 (no detections), 11: 448x448 (no detections), 12: 448x448 (no detections), 13: 448x448 (no detections), 14: 448x448 (no detections), 15: 448x448 (no detections), 79.0ms\n",
      "Speed: 1.2ms preprocess, 4.9ms inference, 0.4ms postprocess per image at shape (1, 3, 448, 448)\n",
      "\n",
      "0: 448x448 (no detections), 1: 448x448 (no detections), 2: 448x448 (no detections), 3: 448x448 (no detections), 4: 448x448 (no detections), 5: 448x448 (no detections), 6: 448x448 (no detections), 7: 448x448 1 zaag, 8: 448x448 (no detections), 9: 448x448 (no detections), 10: 448x448 (no detections), 11: 448x448 (no detections), 12: 448x448 (no detections), 13: 448x448 (no detections), 14: 448x448 (no detections), 15: 448x448 (no detections), 82.0ms\n",
      "Speed: 1.1ms preprocess, 5.1ms inference, 0.6ms postprocess per image at shape (1, 3, 448, 448)\n",
      "\n",
      "0: 448x448 (no detections), 1: 448x448 (no detections), 2: 448x448 (no detections), 3: 448x448 (no detections), 4: 448x448 (no detections), 5: 448x448 (no detections), 6: 448x448 (no detections), 7: 448x448 (no detections), 8: 448x448 (no detections), 9: 448x448 (no detections), 10: 448x448 (no detections), 11: 448x448 (no detections), 12: 448x448 (no detections), 13: 448x448 (no detections), 14: 448x448 (no detections), 15: 448x448 (no detections), 82.0ms\n",
      "Speed: 1.1ms preprocess, 5.1ms inference, 0.4ms postprocess per image at shape (1, 3, 448, 448)\n",
      "\n",
      "0: 448x448 (no detections), 1: 448x448 (no detections), 2: 448x448 (no detections), 3: 448x448 (no detections), 4: 448x448 (no detections), 5: 448x448 (no detections), 6: 448x448 (no detections), 7: 448x448 (no detections), 8: 448x448 1 zaag, 9: 448x448 (no detections), 10: 448x448 (no detections), 11: 448x448 (no detections), 12: 448x448 (no detections), 13: 448x448 (no detections), 14: 448x448 (no detections), 15: 448x448 (no detections), 82.0ms\n",
      "Speed: 1.1ms preprocess, 5.1ms inference, 0.4ms postprocess per image at shape (1, 3, 448, 448)\n",
      "\n",
      "0: 448x448 (no detections), 1: 448x448 (no detections), 2: 448x448 (no detections), 3: 448x448 (no detections), 4: 448x448 (no detections), 5: 448x448 (no detections), 6: 448x448 (no detections), 7: 448x448 (no detections), 8: 448x448 (no detections), 9: 448x448 (no detections), 10: 448x448 (no detections), 11: 448x448 (no detections), 12: 448x448 (no detections), 13: 448x448 (no detections), 14: 448x448 (no detections), 15: 448x448 (no detections), 82.0ms\n",
      "Speed: 1.1ms preprocess, 5.1ms inference, 0.3ms postprocess per image at shape (1, 3, 448, 448)\n",
      "\n",
      "0: 448x448 (no detections), 1: 448x448 (no detections), 2: 448x448 (no detections), 3: 448x448 (no detections), 4: 448x448 (no detections), 5: 448x448 (no detections), 6: 448x448 (no detections), 7: 448x448 (no detections), 8: 448x448 (no detections), 9: 448x448 1 zaag, 10: 448x448 (no detections), 11: 448x448 (no detections), 12: 448x448 (no detections), 13: 448x448 (no detections), 14: 448x448 (no detections), 15: 448x448 (no detections), 78.0ms\n",
      "Speed: 1.2ms preprocess, 4.9ms inference, 0.6ms postprocess per image at shape (1, 3, 448, 448)\n",
      "\n",
      "0: 448x448 (no detections), 1: 448x448 (no detections), 2: 448x448 (no detections), 3: 448x448 (no detections), 4: 448x448 (no detections), 5: 448x448 (no detections), 6: 448x448 (no detections), 7: 448x448 (no detections), 8: 448x448 1 vlek, 9: 448x448 (no detections), 10: 448x448 (no detections), 11: 448x448 (no detections), 12: 448x448 (no detections), 13: 448x448 (no detections), 14: 448x448 (no detections), 15: 448x448 (no detections), 82.0ms\n",
      "Speed: 1.1ms preprocess, 5.1ms inference, 0.5ms postprocess per image at shape (1, 3, 448, 448)\n",
      "\n",
      "0: 448x448 (no detections), 1: 448x448 (no detections), 2: 448x448 (no detections), 3: 448x448 (no detections), 4: 448x448 (no detections), 5: 448x448 (no detections), 6: 448x448 (no detections), 7: 448x448 (no detections), 8: 448x448 (no detections), 9: 448x448 1 zaag, 10: 448x448 1 zaag, 11: 448x448 (no detections), 12: 448x448 (no detections), 13: 448x448 (no detections), 14: 448x448 (no detections), 15: 448x448 (no detections), 81.0ms\n",
      "Speed: 1.1ms preprocess, 5.1ms inference, 0.6ms postprocess per image at shape (1, 3, 448, 448)\n",
      "\n",
      "0: 448x448 (no detections), 1: 448x448 (no detections), 2: 448x448 (no detections), 3: 448x448 (no detections), 4: 448x448 (no detections), 5: 448x448 (no detections), 6: 448x448 (no detections), 7: 448x448 (no detections), 8: 448x448 (no detections), 9: 448x448 1 zaag, 10: 448x448 (no detections), 11: 448x448 (no detections), 12: 448x448 (no detections), 13: 448x448 1 open fout, 14: 448x448 (no detections), 15: 448x448 (no detections), 83.0ms\n",
      "Speed: 1.1ms preprocess, 5.2ms inference, 0.6ms postprocess per image at shape (1, 3, 448, 448)\n",
      "\n",
      "0: 448x448 (no detections), 1: 448x448 (no detections), 2: 448x448 (no detections), 3: 448x448 (no detections), 4: 448x448 (no detections), 5: 448x448 (no detections), 6: 448x448 (no detections), 7: 448x448 (no detections), 8: 448x448 (no detections), 9: 448x448 (no detections), 10: 448x448 (no detections), 11: 448x448 1 zaag, 12: 448x448 (no detections), 13: 448x448 (no detections), 14: 448x448 (no detections), 15: 448x448 (no detections), 82.0ms\n",
      "Speed: 1.1ms preprocess, 5.1ms inference, 0.4ms postprocess per image at shape (1, 3, 448, 448)\n",
      "\n",
      "0: 448x448 (no detections), 1: 448x448 (no detections), 2: 448x448 (no detections), 3: 448x448 (no detections), 4: 448x448 (no detections), 5: 448x448 (no detections), 6: 448x448 (no detections), 7: 448x448 (no detections), 8: 448x448 (no detections), 9: 448x448 (no detections), 10: 448x448 (no detections), 11: 448x448 (no detections), 12: 448x448 (no detections), 13: 448x448 (no detections), 14: 448x448 (no detections), 15: 448x448 (no detections), 82.0ms\n",
      "Speed: 1.1ms preprocess, 5.1ms inference, 0.3ms postprocess per image at shape (1, 3, 448, 448)\n",
      "\n",
      "0: 448x448 (no detections), 1: 448x448 (no detections), 2: 448x448 (no detections), 3: 448x448 (no detections), 4: 448x448 (no detections), 5: 448x448 (no detections), 6: 448x448 (no detections), 7: 448x448 (no detections), 8: 448x448 (no detections), 9: 448x448 (no detections), 10: 448x448 (no detections), 11: 448x448 (no detections), 12: 448x448 1 zaag, 13: 448x448 (no detections), 14: 448x448 (no detections), 15: 448x448 (no detections), 78.0ms\n",
      "Speed: 1.2ms preprocess, 4.9ms inference, 0.6ms postprocess per image at shape (1, 3, 448, 448)\n",
      "\n",
      "0: 448x448 (no detections), 1: 448x448 (no detections), 2: 448x448 (no detections), 3: 448x448 (no detections), 4: 448x448 (no detections), 5: 448x448 (no detections), 6: 448x448 (no detections), 7: 448x448 (no detections), 8: 448x448 (no detections), 9: 448x448 (no detections), 10: 448x448 (no detections), 11: 448x448 (no detections), 12: 448x448 (no detections), 13: 448x448 (no detections), 14: 448x448 (no detections), 15: 448x448 (no detections), 78.0ms\n",
      "Speed: 1.2ms preprocess, 4.9ms inference, 0.5ms postprocess per image at shape (1, 3, 448, 448)\n",
      "\n",
      "0: 448x448 (no detections), 1: 448x448 (no detections), 2: 448x448 (no detections), 3: 448x448 (no detections), 4: 448x448 (no detections), 5: 448x448 (no detections), 6: 448x448 (no detections), 7: 448x448 (no detections), 8: 448x448 (no detections), 9: 448x448 (no detections), 10: 448x448 (no detections), 11: 448x448 (no detections), 12: 448x448 (no detections), 13: 448x448 1 zaag, 14: 448x448 (no detections), 15: 448x448 (no detections), 82.0ms\n",
      "Speed: 1.1ms preprocess, 5.1ms inference, 0.4ms postprocess per image at shape (1, 3, 448, 448)\n",
      "\n",
      "0: 448x448 (no detections), 1: 448x448 (no detections), 2: 448x448 (no detections), 3: 448x448 1 open fout, 4: 448x448 2 open fouts, 5: 448x448 (no detections), 6: 448x448 (no detections), 7: 448x448 (no detections), 8: 448x448 (no detections), 9: 448x448 1 vlek, 10: 448x448 (no detections), 11: 448x448 (no detections), 12: 448x448 (no detections), 13: 448x448 (no detections), 14: 448x448 (no detections), 15: 448x448 (no detections), 82.0ms\n",
      "Speed: 1.1ms preprocess, 5.1ms inference, 0.5ms postprocess per image at shape (1, 3, 448, 448)\n",
      "\n",
      "0: 448x448 (no detections), 1: 448x448 (no detections), 2: 448x448 (no detections), 3: 448x448 (no detections), 4: 448x448 (no detections), 5: 448x448 (no detections), 6: 448x448 (no detections), 7: 448x448 (no detections), 8: 448x448 (no detections), 9: 448x448 (no detections), 10: 448x448 (no detections), 11: 448x448 (no detections), 12: 448x448 (no detections), 13: 448x448 (no detections), 14: 448x448 1 zaag, 15: 448x448 (no detections), 81.0ms\n",
      "Speed: 1.1ms preprocess, 5.1ms inference, 0.4ms postprocess per image at shape (1, 3, 448, 448)\n",
      "\n",
      "0: 448x448 (no detections), 1: 448x448 (no detections), 2: 448x448 (no detections), 3: 448x448 (no detections), 4: 448x448 (no detections), 5: 448x448 1 open fout, 6: 448x448 1 open fout, 7: 448x448 (no detections), 8: 448x448 (no detections), 9: 448x448 (no detections), 10: 448x448 (no detections), 11: 448x448 (no detections), 12: 448x448 (no detections), 13: 448x448 (no detections), 14: 448x448 (no detections), 15: 448x448 (no detections), 82.0ms\n",
      "Speed: 1.1ms preprocess, 5.1ms inference, 0.4ms postprocess per image at shape (1, 3, 448, 448)\n",
      "\n",
      "0: 448x448 (no detections), 1: 448x448 (no detections), 2: 448x448 (no detections), 3: 448x448 (no detections), 4: 448x448 (no detections), 5: 448x448 (no detections), 6: 448x448 (no detections), 7: 448x448 (no detections), 8: 448x448 (no detections), 9: 448x448 (no detections), 10: 448x448 (no detections), 11: 448x448 (no detections), 12: 448x448 (no detections), 13: 448x448 (no detections), 14: 448x448 (no detections), 15: 448x448 (no detections), 82.0ms\n",
      "Speed: 1.2ms preprocess, 5.1ms inference, 0.3ms postprocess per image at shape (1, 3, 448, 448)\n",
      "\n",
      "0: 448x448 (no detections), 1: 448x448 (no detections), 2: 448x448 (no detections), 3: 448x448 (no detections), 4: 448x448 (no detections), 5: 448x448 (no detections), 6: 448x448 (no detections), 7: 448x448 (no detections), 8: 448x448 (no detections), 9: 448x448 (no detections), 10: 448x448 (no detections), 11: 448x448 (no detections), 12: 448x448 (no detections), 13: 448x448 (no detections), 14: 448x448 (no detections), 15: 448x448 1 open voeg, 79.0ms\n",
      "Speed: 1.2ms preprocess, 4.9ms inference, 0.5ms postprocess per image at shape (1, 3, 448, 448)\n",
      "\n",
      "0: 448x448 (no detections), 1: 448x448 (no detections), 2: 448x448 1 open voeg, 3: 448x448 (no detections), 4: 448x448 (no detections), 5: 448x448 (no detections), 6: 448x448 1 vlek, 7: 448x448 (no detections), 8: 448x448 (no detections), 9: 448x448 1 vlek, 10: 448x448 1 vlek, 11: 448x448 (no detections), 12: 448x448 (no detections), 13: 448x448 1 vlek, 14: 448x448 1 vlek, 15: 448x448 1 vlek, 78.0ms\n",
      "Speed: 1.2ms preprocess, 4.9ms inference, 0.9ms postprocess per image at shape (1, 3, 448, 448)\n",
      "\n",
      "0: 448x448 (no detections), 1: 448x448 (no detections), 2: 448x448 (no detections), 3: 448x448 (no detections), 4: 448x448 (no detections), 5: 448x448 (no detections), 6: 448x448 (no detections), 7: 448x448 (no detections), 8: 448x448 (no detections), 9: 448x448 (no detections), 10: 448x448 (no detections), 11: 448x448 (no detections), 12: 448x448 (no detections), 13: 448x448 (no detections), 14: 448x448 (no detections), 15: 448x448 (no detections), 82.0ms\n",
      "Speed: 1.1ms preprocess, 5.1ms inference, 0.3ms postprocess per image at shape (1, 3, 448, 448)\n",
      "\n",
      "0: 448x448 (no detections), 1: 448x448 (no detections), 2: 448x448 (no detections), 3: 448x448 (no detections), 4: 448x448 (no detections), 5: 448x448 (no detections), 6: 448x448 (no detections), 7: 448x448 (no detections), 8: 448x448 (no detections), 9: 448x448 (no detections), 10: 448x448 (no detections), 11: 448x448 (no detections), 12: 448x448 (no detections), 13: 448x448 (no detections), 14: 448x448 (no detections), 15: 448x448 (no detections), 81.0ms\n",
      "Speed: 1.1ms preprocess, 5.1ms inference, 0.4ms postprocess per image at shape (1, 3, 448, 448)\n",
      "\n",
      "0: 448x448 (no detections), 1: 448x448 1 vlek, 2: 448x448 (no detections), 3: 448x448 (no detections), 4: 448x448 (no detections), 5: 448x448 (no detections), 6: 448x448 (no detections), 7: 448x448 (no detections), 8: 448x448 (no detections), 9: 448x448 (no detections), 10: 448x448 (no detections), 11: 448x448 (no detections), 12: 448x448 1 vlek, 13: 448x448 (no detections), 14: 448x448 (no detections), 15: 448x448 (no detections), 80.0ms\n",
      "Speed: 1.2ms preprocess, 5.0ms inference, 0.4ms postprocess per image at shape (1, 3, 448, 448)\n",
      "\n",
      "0: 448x448 (no detections), 1: 448x448 (no detections), 2: 448x448 (no detections), 3: 448x448 (no detections), 4: 448x448 (no detections), 5: 448x448 (no detections), 6: 448x448 (no detections), 7: 448x448 (no detections), 8: 448x448 (no detections), 9: 448x448 (no detections), 10: 448x448 (no detections), 11: 448x448 (no detections), 12: 448x448 (no detections), 13: 448x448 (no detections), 14: 448x448 (no detections), 15: 448x448 (no detections), 81.0ms\n",
      "Speed: 1.3ms preprocess, 5.1ms inference, 0.3ms postprocess per image at shape (1, 3, 448, 448)\n",
      "\n",
      "0: 448x448 (no detections), 1: 448x448 (no detections), 2: 448x448 (no detections), 3: 448x448 (no detections), 4: 448x448 (no detections), 5: 448x448 (no detections), 6: 448x448 (no detections), 7: 448x448 (no detections), 8: 448x448 (no detections), 9: 448x448 (no detections), 10: 448x448 (no detections), 11: 448x448 (no detections), 12: 448x448 (no detections), 13: 448x448 (no detections), 14: 448x448 (no detections), 15: 448x448 (no detections), 80.0ms\n",
      "Speed: 1.1ms preprocess, 5.0ms inference, 0.2ms postprocess per image at shape (1, 3, 448, 448)\n",
      "\n",
      "0: 448x448 (no detections), 1: 448x448 1 open voeg, 2: 448x448 1 open voeg, 3: 448x448 1 open voeg, 4: 448x448 (no detections), 5: 448x448 (no detections), 6: 448x448 (no detections), 7: 448x448 (no detections), 8: 448x448 (no detections), 9: 448x448 (no detections), 10: 448x448 (no detections), 11: 448x448 (no detections), 12: 448x448 (no detections), 13: 448x448 (no detections), 14: 448x448 (no detections), 15: 448x448 (no detections), 78.0ms\n",
      "Speed: 1.3ms preprocess, 4.9ms inference, 0.6ms postprocess per image at shape (1, 3, 448, 448)\n",
      "\n",
      "0: 448x448 (no detections), 1: 448x448 (no detections), 2: 448x448 (no detections), 3: 448x448 (no detections), 4: 448x448 (no detections), 5: 448x448 (no detections), 6: 448x448 (no detections), 7: 448x448 (no detections), 8: 448x448 (no detections), 9: 448x448 (no detections), 10: 448x448 (no detections), 11: 448x448 (no detections), 12: 448x448 (no detections), 13: 448x448 (no detections), 14: 448x448 (no detections), 15: 448x448 (no detections), 78.0ms\n",
      "Speed: 1.2ms preprocess, 4.9ms inference, 0.4ms postprocess per image at shape (1, 3, 448, 448)\n",
      "\n",
      "0: 448x448 (no detections), 1: 448x448 (no detections), 2: 448x448 (no detections), 3: 448x448 (no detections), 4: 448x448 (no detections), 5: 448x448 (no detections), 6: 448x448 (no detections), 7: 448x448 (no detections), 8: 448x448 (no detections), 9: 448x448 (no detections), 10: 448x448 (no detections), 11: 448x448 (no detections), 12: 448x448 (no detections), 13: 448x448 (no detections), 14: 448x448 (no detections), 15: 448x448 (no detections), 81.0ms\n",
      "Speed: 1.1ms preprocess, 5.1ms inference, 0.5ms postprocess per image at shape (1, 3, 448, 448)\n",
      "\n",
      "0: 448x448 (no detections), 1: 448x448 (no detections), 2: 448x448 (no detections), 3: 448x448 (no detections), 4: 448x448 1 zaag, 5: 448x448 (no detections), 6: 448x448 (no detections), 7: 448x448 (no detections), 8: 448x448 (no detections), 9: 448x448 (no detections), 10: 448x448 (no detections), 11: 448x448 (no detections), 12: 448x448 (no detections), 13: 448x448 (no detections), 14: 448x448 (no detections), 15: 448x448 (no detections), 78.1ms\n",
      "Speed: 1.2ms preprocess, 4.9ms inference, 0.7ms postprocess per image at shape (1, 3, 448, 448)\n",
      "\n",
      "0: 448x448 1 open voeg, 1: 448x448 (no detections), 2: 448x448 (no detections), 3: 448x448 1 open voeg, 4: 448x448 (no detections), 5: 448x448 1 open voeg, 6: 448x448 1 kras, 7: 448x448 (no detections), 8: 448x448 (no detections), 9: 448x448 (no detections), 10: 448x448 (no detections), 11: 448x448 (no detections), 12: 448x448 (no detections), 13: 448x448 (no detections), 14: 448x448 (no detections), 15: 448x448 (no detections), 78.0ms\n",
      "Speed: 1.2ms preprocess, 4.9ms inference, 0.6ms postprocess per image at shape (1, 3, 448, 448)\n",
      "\n",
      "0: 448x448 (no detections), 1: 448x448 (no detections), 2: 448x448 (no detections), 3: 448x448 (no detections), 4: 448x448 (no detections), 5: 448x448 (no detections), 6: 448x448 (no detections), 7: 448x448 (no detections), 8: 448x448 (no detections), 9: 448x448 (no detections), 10: 448x448 (no detections), 11: 448x448 (no detections), 12: 448x448 (no detections), 13: 448x448 (no detections), 14: 448x448 (no detections), 15: 448x448 (no detections), 82.0ms\n",
      "Speed: 1.2ms preprocess, 5.1ms inference, 0.3ms postprocess per image at shape (1, 3, 448, 448)\n",
      "\n",
      "0: 448x448 (no detections), 1: 448x448 1 open voeg, 2: 448x448 (no detections), 3: 448x448 (no detections), 4: 448x448 1 open voeg, 5: 448x448 (no detections), 6: 448x448 1 open voeg, 7: 448x448 1 kras, 8: 448x448 (no detections), 9: 448x448 (no detections), 10: 448x448 (no detections), 11: 448x448 (no detections), 12: 448x448 (no detections), 13: 448x448 (no detections), 14: 448x448 (no detections), 15: 448x448 1 zaag, 81.0ms\n",
      "Speed: 1.3ms preprocess, 5.1ms inference, 0.7ms postprocess per image at shape (1, 3, 448, 448)\n",
      "\n",
      "0: 448x448 (no detections), 1: 448x448 (no detections), 2: 448x448 (no detections), 3: 448x448 (no detections), 4: 448x448 (no detections), 5: 448x448 (no detections), 36.0ms\n",
      "Speed: 1.2ms preprocess, 6.0ms inference, 0.3ms postprocess per image at shape (1, 3, 448, 448)\n"
     ]
    }
   ],
   "source": [
    "def batch_inference(model, images, batch_size, device):\n",
    "    results = []\n",
    "    num_images = len(images)\n",
    "    \n",
    "    # Divide the images into batches\n",
    "    for i in range(0, num_images, batch_size):\n",
    "        batch = images[i:i + batch_size]\n",
    "        batch_results = model.predict(source=batch, device=device)\n",
    "        results.extend(batch_results)\n",
    "        \n",
    "    return results\n",
    "\n",
    "# Perform batch inference\n",
    "results = batch_inference(model, sahi_images_pil, 16, device)\n"
   ]
  },
  {
   "cell_type": "code",
   "execution_count": null,
   "metadata": {},
   "outputs": [],
   "source": []
  }
 ],
 "metadata": {
  "kernelspec": {
   "display_name": "Python 3",
   "language": "python",
   "name": "python3"
  },
  "language_info": {
   "codemirror_mode": {
    "name": "ipython",
    "version": 3
   },
   "file_extension": ".py",
   "mimetype": "text/x-python",
   "name": "python",
   "nbconvert_exporter": "python",
   "pygments_lexer": "ipython3",
   "version": "3.8.0"
  }
 },
 "nbformat": 4,
 "nbformat_minor": 2
}
