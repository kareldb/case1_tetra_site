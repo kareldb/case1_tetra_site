{
 "cells": [
  {
   "cell_type": "markdown",
   "metadata": {},
   "source": [
    "# Multi-Class Classification\n",
    "\n",
    "## Introduction\n",
    "In fast-paced industrial environments where defects can vary significantly, the ability to accurately classify and segment different types of anomalies is crucial for quality assurance and operational efficiency. Traditional classification methods often struggle with the diversity and rarity of defect types, necessitating a robust solution that can handle multiple categories effectively. This notebook introduces the use of the YoloV8 framework for multi-class classification with segmentation capabilities.\n",
    "\n",
    "YoloV8 is a powerful deep learning tool optimized for object detection and segmentation, making it particularly suited for scenarios where precise identification and localization of various defect types are required. By training on segmented datasets, YoloV8 can discern and categorize multiple defect types from images, providing detailed insights into the nature and extent of the defects encountered."
   ]
  },
  {
   "cell_type": "markdown",
   "metadata": {},
   "source": [
    "## Imports"
   ]
  },
  {
   "cell_type": "code",
   "execution_count": null,
   "metadata": {},
   "outputs": [],
   "source": [
    "import ultralytics\n",
    "from ultralytics import YOLO\n",
    "import os\n",
    "import torch\n",
    "from IPython import display\n",
    "import sys\n",
    "from PIL import Image\n",
    "import supervision as sv\n",
    "sys.path.append('...')"
   ]
  },
  {
   "cell_type": "markdown",
   "metadata": {},
   "source": [
    "## **Configurable parameters**"
   ]
  },
  {
   "cell_type": "code",
   "execution_count": null,
   "metadata": {},
   "outputs": [],
   "source": [
    "# Yolo settings\n",
    "window_size = 448\n",
    "batch_size = 8\n",
    "epochs = 200\n",
    "\n",
    "# Data sources\n",
    "data_source_train = 'c:/Users/admin/Documents/Karel Debedts Thesis/thesis/dataset/yolo_dataset_subset2/fault_only/train/data.yml',\n",
    "data_source_test = 'c:/Users/admin/Documents/Karel Debedts Thesis/thesis/dataset/yolo_dataset_subset2/fault_only/test/data.yml',"
   ]
  },
  {
   "cell_type": "markdown",
   "metadata": {},
   "source": [
    "## **Training**\n",
    "\n",
    "A full list of training arguments is available here: https://docs.ultralytics.com/nl/modes/train/#arguments"
   ]
  },
  {
   "cell_type": "code",
   "execution_count": null,
   "metadata": {},
   "outputs": [],
   "source": [
    " # Load the model.\n",
    "model = YOLO('yolov8s.pt')\n",
    " \n",
    "# Training.\n",
    "results = model.train(\n",
    "   data= data_source_train,\n",
    "   imgsz=window_size,\n",
    "   epochs=epochs,\n",
    "   batch=batch_size,\n",
    "   plots = True,\n",
    "   resume = False,\n",
    "   val = True,\n",
    "   verbose = True,\n",
    "   device = 0,\n",
    "   project = \"yolov8\",\n",
    "   name = \"results\",)"
   ]
  },
  {
   "cell_type": "markdown",
   "metadata": {},
   "source": [
    "## Test evaluation\n",
    "The model is applied in combination with a sliding window on the test dataset "
   ]
  },
  {
   "cell_type": "code",
   "execution_count": null,
   "metadata": {},
   "outputs": [],
   "source": [
    "model = YOLO('yolov8/results/weights/best.pt')\n",
    "png_files = [f for f in os.listdir(data_source_test) if f.endswith('.png')]\n",
    "\n",
    "#metrics\n",
    "true_pos = 0\n",
    "false_pos = 0\n",
    "false_negatives = 0\n",
    "total = 0\n",
    "correct_guesses = 0\n",
    "\n",
    "confusion_matrix_dict = {}\n",
    "\n",
    "device = torch.device(\"cuda:0\")\n",
    "\n",
    "\n",
    "for file_name in png_files:\n",
    "    path = os.path.join(data_source_test, file_name)\n",
    "    source = Image.open(path)\n",
    "    results = model.predict(source=source, device=device)\n",
    "    detections = sv.Detections.from_ultralytics(results[0])\n",
    "    pred_lbl = \"bg\"\n",
    "    gnd_truth = \"bg\"\n",
    "\n",
    "\n",
    "    #get pred\n",
    "    for i in detections.class_id:\n",
    "        pred_lbl = results[0].names[i]\n",
    "        \n",
    "    #get ground truth\n",
    "    with open(path.replace(\".png\", \".txt\"), 'r') as file:\n",
    "        lines = file.readlines()\n",
    "\n",
    "    if lines:\n",
    "        # Get the first annotation\n",
    "        first_annotation = lines[0]\n",
    "        # Split the annotation into components\n",
    "        components = first_annotation.strip().split()\n",
    "        # Extract the class ID\n",
    "        class_id = components[0]\n",
    "        #print(results[0].names)\n",
    "        gnd_truth = results[0].names[int(class_id)]\n",
    "\n",
    "\n",
    "    if not (confusion_matrix_dict):\n",
    "        for key, val in results[0].names.items():\n",
    "            confusion_matrix_dict[val] = {\"guess_bg\": 0, \"guess_fault\": 0}\n",
    "            confusion_matrix_dict[\"bg\"] = {\"guess_bg\": 0, \"guess_fault\": 0}  \n",
    "        print(confusion_matrix_dict)\n",
    "\n",
    "    if gnd_truth != \"bg\":\n",
    "        if pred_lbl != \"bg\":\n",
    "            true_pos += 1\n",
    "            correct_guesses += 1\n",
    "            confusion_matrix_dict[gnd_truth][\"guess_fault\"] += 1\n",
    "        else:\n",
    "            false_negatives += 1\n",
    "            confusion_matrix_dict[gnd_truth][\"guess_bg\"] += 1\n",
    "    else:\n",
    "        if pred_lbl == \"bg\":\n",
    "            confusion_matrix_dict[\"bg\"][\"guess_bg\"] += 1\n",
    "            correct_guesses += 1\n",
    "        else:\n",
    "            false_pos += 1\n",
    "            confusion_matrix_dict[\"bg\"][\"guess_fault\"] += 1\n",
    "    total += 1        \n",
    "\n",
    "\n",
    "accuracy = correct_guesses / total\n",
    "recall = true_pos / (true_pos + false_negatives)\n",
    "precision = true_pos / (true_pos + false_pos)\n",
    "\n",
    "print(f\"Total images: {total}\")\n",
    "print(f\"Accuracy: {accuracy:.2f}\")\n",
    "print(f\"Recall: {recall:.2f}\")\n",
    "print(f\"Precision: {precision:.2f}\")     "
   ]
  },
  {
   "cell_type": "code",
   "execution_count": null,
   "metadata": {},
   "outputs": [],
   "source": [
    "# Confusion matrix\n",
    "\n",
    "# Initialize the confusion matrix\n",
    "data = confusion_matrix_dict\n",
    "categories = list(data.keys())\n",
    "confusion_matrix = []\n",
    "\n",
    "# Populate the confusion matrix\n",
    "for category in categories:\n",
    "    row = [data[category][\"guess_bg\"], data[category][\"guess_fault\"]]\n",
    "    confusion_matrix.append(row)\n",
    "\n",
    "# Print the confusion matrix\n",
    "print(f\"{'':>12} {'Background':>10} {'Fault':>5}\")\n",
    "for i, category in enumerate(categories):\n",
    "    print(f\"{category:>12}: {confusion_matrix[i][0]:>10} {confusion_matrix[i][1]:>5}\")"
   ]
  }
 ],
 "metadata": {
  "kernelspec": {
   "display_name": "kdb",
   "language": "python",
   "name": "python3"
  },
  "language_info": {
   "name": "python",
   "version": "3.12.2"
  }
 },
 "nbformat": 4,
 "nbformat_minor": 2
}
